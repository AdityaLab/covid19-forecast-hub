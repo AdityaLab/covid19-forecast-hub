{
 "cells": [
  {
   "cell_type": "code",
   "execution_count": 17,
   "metadata": {},
   "outputs": [
    {
     "output_type": "stream",
     "name": "stdout",
     "text": [
      "seasonId\nregions\n"
     ]
    }
   ],
   "source": [
    "import json\n",
    "from pprint import pprint\n",
    "\n",
    "with open(\"./vis-master/src/assets/data/season-Incident Deaths.json\") as f:\n",
    "    test = json.load(f)\n",
    "\n",
    "for key in test:\n",
    "    print(key)\n"
   ]
  },
  {
   "cell_type": "code",
   "execution_count": 18,
   "metadata": {},
   "outputs": [
    {
     "output_type": "stream",
     "name": "stdout",
     "text": [
      "2\n0\n2\n1\n2\n4\n[]\n"
     ]
    }
   ],
   "source": [
    "models_72 = []\n",
    "for region in test[\"regions\"]:\n",
    "    for key in region[\"actual\"][72][\"week\"]:\n",
    "        print(key)\n",
    "    break\n",
    "            \n",
    "pprint(models_72)"
   ]
  },
  {
   "cell_type": "code",
   "execution_count": null,
   "metadata": {},
   "outputs": [],
   "source": []
  }
 ],
 "metadata": {
  "kernelspec": {
   "name": "python3",
   "display_name": "Python 3.9.0  ('env': venv)"
  },
  "language_info": {
   "codemirror_mode": {
    "name": "ipython",
    "version": 3
   },
   "file_extension": ".py",
   "mimetype": "text/x-python",
   "name": "python",
   "nbconvert_exporter": "python",
   "pygments_lexer": "ipython3",
   "version": "3.9.0"
  },
  "interpreter": {
   "hash": "602edf9b04266b02565cd46e27f499e2b8b10ef59f3dbdfa09f9844e1c9f7ecc"
  }
 },
 "nbformat": 4,
 "nbformat_minor": 2
}